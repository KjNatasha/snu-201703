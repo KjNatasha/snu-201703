{
 "cells": [
  {
   "cell_type": "code",
   "execution_count": 2,
   "metadata": {
    "collapsed": false
   },
   "outputs": [],
   "source": [
    "from dojo.models import Post"
   ]
  },
  {
   "cell_type": "code",
   "execution_count": 3,
   "metadata": {
    "collapsed": false
   },
   "outputs": [
    {
     "data": {
      "text/plain": [
       "<QuerySet [<Post: 로봇혁명, 美 일자리 1500만개 만들고 2500만개 없앤다>, <Post: 단통법 시행 후 단말기 지원금 30%↓… 이통3사 영업이익은 30%↑>, <Post: 날개 없는 PC시장, 또 추락…\"10분기 연속 감소\">, <Post: 정부, 중소기업 액티브X 제거 돕는다…웹 표준 전환 지원>, <Post: KT, LTE망으로 배터리 절감…'갤S8' 배터리 수명 4시간 늘어>, <Post: 중고폰이 새폰처럼.. 배터리 늘려주는 'C-DRX' 원리는?>, <Post: (일문일답)KT “2년간 개발한 스마트폰 배터리 절감기술, 데이터 손실률도 극복”>, <Post: 이통3사, 배터리 절감 기술로 또 다시 '국내 최초' 논란…진실공방까지(종합)>, <Post: '스마트폰 배터리 최대 45% 절감' 기술, KT 전국망에 첫 적용(종합)>]>"
      ]
     },
     "execution_count": 3,
     "metadata": {},
     "output_type": "execute_result"
    }
   ],
   "source": [
    "Post.objects.all()"
   ]
  },
  {
   "cell_type": "code",
   "execution_count": 4,
   "metadata": {
    "collapsed": false
   },
   "outputs": [
    {
     "name": "stdout",
     "output_type": "stream",
     "text": [
      "1 로봇혁명, 美 일자리 1500만개 만들고 2500만개 없앤다 2017-04-05 07:10:00.838543+00:00\n",
      "2 단통법 시행 후 단말기 지원금 30%↓… 이통3사 영업이익은 30%↑ 2017-04-12 07:24:24.030630+00:00\n",
      "3 날개 없는 PC시장, 또 추락…\"10분기 연속 감소\" 2017-04-12 07:24:46.667396+00:00\n",
      "4 정부, 중소기업 액티브X 제거 돕는다…웹 표준 전환 지원 2017-04-12 07:25:09.353656+00:00\n",
      "5 KT, LTE망으로 배터리 절감…'갤S8' 배터리 수명 4시간 늘어 2017-04-12 07:25:27.691649+00:00\n",
      "6 중고폰이 새폰처럼.. 배터리 늘려주는 'C-DRX' 원리는? 2017-04-12 07:25:43.076812+00:00\n",
      "7 (일문일답)KT “2년간 개발한 스마트폰 배터리 절감기술, 데이터 손실률도 극복” 2017-04-12 07:26:01.279305+00:00\n",
      "8 이통3사, 배터리 절감 기술로 또 다시 '국내 최초' 논란…진실공방까지(종합) 2017-04-12 07:26:17.791842+00:00\n",
      "9 '스마트폰 배터리 최대 45% 절감' 기술, KT 전국망에 첫 적용(종합) 2017-04-12 07:26:34.793878+00:00\n"
     ]
    }
   ],
   "source": [
    "for post in Post.objects.all():\n",
    "    print(post.id, post.title, post.created_at)"
   ]
  },
  {
   "cell_type": "code",
   "execution_count": 5,
   "metadata": {
    "collapsed": true
   },
   "outputs": [],
   "source": [
    "qs = Post.objects.all()"
   ]
  },
  {
   "cell_type": "markdown",
   "metadata": {},
   "source": [
    "## filter"
   ]
  },
  {
   "cell_type": "code",
   "execution_count": 6,
   "metadata": {
    "collapsed": false
   },
   "outputs": [
    {
     "data": {
      "text/plain": [
       "<QuerySet [<Post: 로봇혁명, 美 일자리 1500만개 만들고 2500만개 없앤다>, <Post: 단통법 시행 후 단말기 지원금 30%↓… 이통3사 영업이익은 30%↑>, <Post: 날개 없는 PC시장, 또 추락…\"10분기 연속 감소\">, <Post: 정부, 중소기업 액티브X 제거 돕는다…웹 표준 전환 지원>, <Post: KT, LTE망으로 배터리 절감…'갤S8' 배터리 수명 4시간 늘어>, <Post: 중고폰이 새폰처럼.. 배터리 늘려주는 'C-DRX' 원리는?>, <Post: (일문일답)KT “2년간 개발한 스마트폰 배터리 절감기술, 데이터 손실률도 극복”>, <Post: 이통3사, 배터리 절감 기술로 또 다시 '국내 최초' 논란…진실공방까지(종합)>, <Post: '스마트폰 배터리 최대 45% 절감' 기술, KT 전국망에 첫 적용(종합)>]>"
      ]
     },
     "execution_count": 6,
     "metadata": {},
     "output_type": "execute_result"
    }
   ],
   "source": [
    "Post.objects.all()"
   ]
  },
  {
   "cell_type": "code",
   "execution_count": 22,
   "metadata": {
    "collapsed": false
   },
   "outputs": [
    {
     "data": {
      "text/plain": [
       "<QuerySet [<Post: KT, LTE망으로 배터리 절감…'갤S8' 배터리 수명 4시간 늘어>]>"
      ]
     },
     "execution_count": 22,
     "metadata": {},
     "output_type": "execute_result"
    }
   ],
   "source": [
    "# and 조건\n",
    "Post.objects.filter(id__lte=9,\n",
    "                    id__gte=5,\n",
    "                    title__icontains='LTE',\n",
    "                   created_at__year=2017,\n",
    "                   created_at__month__gte=3,\n",
    "                   created_at__month__lte=5)"
   ]
  },
  {
   "cell_type": "code",
   "execution_count": 23,
   "metadata": {
    "collapsed": true
   },
   "outputs": [],
   "source": [
    "from django.db.models import Q"
   ]
  },
  {
   "cell_type": "code",
   "execution_count": 25,
   "metadata": {
    "collapsed": false
   },
   "outputs": [],
   "source": [
    "condition = Q(id__lte=9) | Q(id__gte=5)"
   ]
  },
  {
   "cell_type": "code",
   "execution_count": 26,
   "metadata": {
    "collapsed": false
   },
   "outputs": [
    {
     "data": {
      "text/plain": [
       "<Q: (OR: ('id__lte', 9), ('id__gte', 5))>"
      ]
     },
     "execution_count": 26,
     "metadata": {},
     "output_type": "execute_result"
    }
   ],
   "source": [
    "condition"
   ]
  },
  {
   "cell_type": "code",
   "execution_count": 28,
   "metadata": {
    "collapsed": false
   },
   "outputs": [
    {
     "data": {
      "text/plain": [
       "<QuerySet [<Post: KT, LTE망으로 배터리 절감…'갤S8' 배터리 수명 4시간 늘어>]>"
      ]
     },
     "execution_count": 28,
     "metadata": {},
     "output_type": "execute_result"
    }
   ],
   "source": [
    "Post.objects.filter(condition, title__icontains='LTE')"
   ]
  },
  {
   "cell_type": "code",
   "execution_count": null,
   "metadata": {
    "collapsed": true
   },
   "outputs": [],
   "source": []
  }
 ],
 "metadata": {
  "kernelspec": {
   "display_name": "Django Shell-Plus",
   "language": "python",
   "name": "django_extensions"
  },
  "language_info": {
   "codemirror_mode": {
    "name": "ipython",
    "version": 3
   },
   "file_extension": ".py",
   "mimetype": "text/x-python",
   "name": "python",
   "nbconvert_exporter": "python",
   "pygments_lexer": "ipython3",
   "version": "3.5.2"
  }
 },
 "nbformat": 4,
 "nbformat_minor": 2
}
